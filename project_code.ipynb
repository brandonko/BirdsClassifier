{
  "nbformat": 4,
  "nbformat_minor": 0,
  "metadata": {
    "accelerator": "GPU",
    "colab": {
      "name": "[1] 455Project.ipynb",
      "provenance": [],
      "collapsed_sections": [
        "LrOsNf_gLlqN",
        "7IU30c426esj",
        "9-tWawXHNE_w",
        "4dr3q5nwoE7B",
        "PsLOKJt8l6aw",
        "g8231QkJ1RLm"
      ]
    },
    "kernelspec": {
      "display_name": "Python 3",
      "name": "python3"
    },
    "widgets": {
      "application/vnd.jupyter.widget-state+json": {
        "4dcda443149445eb8579c61d9b219fcb": {
          "model_module": "@jupyter-widgets/controls",
          "model_name": "HBoxModel",
          "state": {
            "_view_name": "HBoxView",
            "_dom_classes": [],
            "_model_name": "HBoxModel",
            "_view_module": "@jupyter-widgets/controls",
            "_model_module_version": "1.5.0",
            "_view_count": null,
            "_view_module_version": "1.5.0",
            "box_style": "",
            "layout": "IPY_MODEL_0446be258ddb442ca95dc389f644baf3",
            "_model_module": "@jupyter-widgets/controls",
            "children": [
              "IPY_MODEL_405cf7fc5d3640d6ba31b8894cfeb674",
              "IPY_MODEL_935f1114476644408a5fb3e41e00ca74"
            ]
          }
        },
        "0446be258ddb442ca95dc389f644baf3": {
          "model_module": "@jupyter-widgets/base",
          "model_name": "LayoutModel",
          "state": {
            "_view_name": "LayoutView",
            "grid_template_rows": null,
            "right": null,
            "justify_content": null,
            "_view_module": "@jupyter-widgets/base",
            "overflow": null,
            "_model_module_version": "1.2.0",
            "_view_count": null,
            "flex_flow": null,
            "width": null,
            "min_width": null,
            "border": null,
            "align_items": null,
            "bottom": null,
            "_model_module": "@jupyter-widgets/base",
            "top": null,
            "grid_column": null,
            "overflow_y": null,
            "overflow_x": null,
            "grid_auto_flow": null,
            "grid_area": null,
            "grid_template_columns": null,
            "flex": null,
            "_model_name": "LayoutModel",
            "justify_items": null,
            "grid_row": null,
            "max_height": null,
            "align_content": null,
            "visibility": null,
            "align_self": null,
            "height": null,
            "min_height": null,
            "padding": null,
            "grid_auto_rows": null,
            "grid_gap": null,
            "max_width": null,
            "order": null,
            "_view_module_version": "1.2.0",
            "grid_template_areas": null,
            "object_position": null,
            "object_fit": null,
            "grid_auto_columns": null,
            "margin": null,
            "display": null,
            "left": null
          }
        },
        "405cf7fc5d3640d6ba31b8894cfeb674": {
          "model_module": "@jupyter-widgets/controls",
          "model_name": "FloatProgressModel",
          "state": {
            "_view_name": "ProgressView",
            "style": "IPY_MODEL_df68b3e6071343acb96c2a5abd008674",
            "_dom_classes": [],
            "description": "100%",
            "_model_name": "FloatProgressModel",
            "bar_style": "success",
            "max": 46827520,
            "_view_module": "@jupyter-widgets/controls",
            "_model_module_version": "1.5.0",
            "value": 46827520,
            "_view_count": null,
            "_view_module_version": "1.5.0",
            "orientation": "horizontal",
            "min": 0,
            "description_tooltip": null,
            "_model_module": "@jupyter-widgets/controls",
            "layout": "IPY_MODEL_a3061e4e738943d0af2d0becfdf64fbe"
          }
        },
        "935f1114476644408a5fb3e41e00ca74": {
          "model_module": "@jupyter-widgets/controls",
          "model_name": "HTMLModel",
          "state": {
            "_view_name": "HTMLView",
            "style": "IPY_MODEL_61b034d8ab1849bab84ee5b9d8a8c0e8",
            "_dom_classes": [],
            "description": "",
            "_model_name": "HTMLModel",
            "placeholder": "​",
            "_view_module": "@jupyter-widgets/controls",
            "_model_module_version": "1.5.0",
            "value": " 44.7M/44.7M [00:01&lt;00:00, 26.4MB/s]",
            "_view_count": null,
            "_view_module_version": "1.5.0",
            "description_tooltip": null,
            "_model_module": "@jupyter-widgets/controls",
            "layout": "IPY_MODEL_08d6faa9e9fb428fa76140b7a42a4454"
          }
        },
        "df68b3e6071343acb96c2a5abd008674": {
          "model_module": "@jupyter-widgets/controls",
          "model_name": "ProgressStyleModel",
          "state": {
            "_view_name": "StyleView",
            "_model_name": "ProgressStyleModel",
            "description_width": "initial",
            "_view_module": "@jupyter-widgets/base",
            "_model_module_version": "1.5.0",
            "_view_count": null,
            "_view_module_version": "1.2.0",
            "bar_color": null,
            "_model_module": "@jupyter-widgets/controls"
          }
        },
        "a3061e4e738943d0af2d0becfdf64fbe": {
          "model_module": "@jupyter-widgets/base",
          "model_name": "LayoutModel",
          "state": {
            "_view_name": "LayoutView",
            "grid_template_rows": null,
            "right": null,
            "justify_content": null,
            "_view_module": "@jupyter-widgets/base",
            "overflow": null,
            "_model_module_version": "1.2.0",
            "_view_count": null,
            "flex_flow": null,
            "width": null,
            "min_width": null,
            "border": null,
            "align_items": null,
            "bottom": null,
            "_model_module": "@jupyter-widgets/base",
            "top": null,
            "grid_column": null,
            "overflow_y": null,
            "overflow_x": null,
            "grid_auto_flow": null,
            "grid_area": null,
            "grid_template_columns": null,
            "flex": null,
            "_model_name": "LayoutModel",
            "justify_items": null,
            "grid_row": null,
            "max_height": null,
            "align_content": null,
            "visibility": null,
            "align_self": null,
            "height": null,
            "min_height": null,
            "padding": null,
            "grid_auto_rows": null,
            "grid_gap": null,
            "max_width": null,
            "order": null,
            "_view_module_version": "1.2.0",
            "grid_template_areas": null,
            "object_position": null,
            "object_fit": null,
            "grid_auto_columns": null,
            "margin": null,
            "display": null,
            "left": null
          }
        },
        "61b034d8ab1849bab84ee5b9d8a8c0e8": {
          "model_module": "@jupyter-widgets/controls",
          "model_name": "DescriptionStyleModel",
          "state": {
            "_view_name": "StyleView",
            "_model_name": "DescriptionStyleModel",
            "description_width": "",
            "_view_module": "@jupyter-widgets/base",
            "_model_module_version": "1.5.0",
            "_view_count": null,
            "_view_module_version": "1.2.0",
            "_model_module": "@jupyter-widgets/controls"
          }
        },
        "08d6faa9e9fb428fa76140b7a42a4454": {
          "model_module": "@jupyter-widgets/base",
          "model_name": "LayoutModel",
          "state": {
            "_view_name": "LayoutView",
            "grid_template_rows": null,
            "right": null,
            "justify_content": null,
            "_view_module": "@jupyter-widgets/base",
            "overflow": null,
            "_model_module_version": "1.2.0",
            "_view_count": null,
            "flex_flow": null,
            "width": null,
            "min_width": null,
            "border": null,
            "align_items": null,
            "bottom": null,
            "_model_module": "@jupyter-widgets/base",
            "top": null,
            "grid_column": null,
            "overflow_y": null,
            "overflow_x": null,
            "grid_auto_flow": null,
            "grid_area": null,
            "grid_template_columns": null,
            "flex": null,
            "_model_name": "LayoutModel",
            "justify_items": null,
            "grid_row": null,
            "max_height": null,
            "align_content": null,
            "visibility": null,
            "align_self": null,
            "height": null,
            "min_height": null,
            "padding": null,
            "grid_auto_rows": null,
            "grid_gap": null,
            "max_width": null,
            "order": null,
            "_view_module_version": "1.2.0",
            "grid_template_areas": null,
            "object_position": null,
            "object_fit": null,
            "grid_auto_columns": null,
            "margin": null,
            "display": null,
            "left": null
          }
        },
        "11ce05016f1649e9baa47fb7bb0f693f": {
          "model_module": "@jupyter-widgets/controls",
          "model_name": "HBoxModel",
          "state": {
            "_view_name": "HBoxView",
            "_dom_classes": [],
            "_model_name": "HBoxModel",
            "_view_module": "@jupyter-widgets/controls",
            "_model_module_version": "1.5.0",
            "_view_count": null,
            "_view_module_version": "1.5.0",
            "box_style": "",
            "layout": "IPY_MODEL_b7034ba45c864712a2f281592a4a3e12",
            "_model_module": "@jupyter-widgets/controls",
            "children": [
              "IPY_MODEL_60d578595a0c4d21b0d044c7dec20e0f",
              "IPY_MODEL_bc89b342fae2430092dcdb371d0795ce"
            ]
          }
        },
        "b7034ba45c864712a2f281592a4a3e12": {
          "model_module": "@jupyter-widgets/base",
          "model_name": "LayoutModel",
          "state": {
            "_view_name": "LayoutView",
            "grid_template_rows": null,
            "right": null,
            "justify_content": null,
            "_view_module": "@jupyter-widgets/base",
            "overflow": null,
            "_model_module_version": "1.2.0",
            "_view_count": null,
            "flex_flow": null,
            "width": null,
            "min_width": null,
            "border": null,
            "align_items": null,
            "bottom": null,
            "_model_module": "@jupyter-widgets/base",
            "top": null,
            "grid_column": null,
            "overflow_y": null,
            "overflow_x": null,
            "grid_auto_flow": null,
            "grid_area": null,
            "grid_template_columns": null,
            "flex": null,
            "_model_name": "LayoutModel",
            "justify_items": null,
            "grid_row": null,
            "max_height": null,
            "align_content": null,
            "visibility": null,
            "align_self": null,
            "height": null,
            "min_height": null,
            "padding": null,
            "grid_auto_rows": null,
            "grid_gap": null,
            "max_width": null,
            "order": null,
            "_view_module_version": "1.2.0",
            "grid_template_areas": null,
            "object_position": null,
            "object_fit": null,
            "grid_auto_columns": null,
            "margin": null,
            "display": null,
            "left": null
          }
        },
        "60d578595a0c4d21b0d044c7dec20e0f": {
          "model_module": "@jupyter-widgets/controls",
          "model_name": "FloatProgressModel",
          "state": {
            "_view_name": "ProgressView",
            "style": "IPY_MODEL_fcc4a2821c8f4bc6a51430d2da5f14e6",
            "_dom_classes": [],
            "description": "100%",
            "_model_name": "FloatProgressModel",
            "bar_style": "success",
            "max": 5017600,
            "_view_module": "@jupyter-widgets/controls",
            "_model_module_version": "1.5.0",
            "value": 5017600,
            "_view_count": null,
            "_view_module_version": "1.5.0",
            "orientation": "horizontal",
            "min": 0,
            "description_tooltip": null,
            "_model_module": "@jupyter-widgets/controls",
            "layout": "IPY_MODEL_53fcfffbec06440293a11f761f2938d3"
          }
        },
        "bc89b342fae2430092dcdb371d0795ce": {
          "model_module": "@jupyter-widgets/controls",
          "model_name": "HTMLModel",
          "state": {
            "_view_name": "HTMLView",
            "style": "IPY_MODEL_124e9b9c95f74c6ea6ed6a75005541c0",
            "_dom_classes": [],
            "description": "",
            "_model_name": "HTMLModel",
            "placeholder": "​",
            "_view_module": "@jupyter-widgets/controls",
            "_model_module_version": "1.5.0",
            "value": " 4.79M/4.79M [00:00&lt;00:00, 5.91MB/s]",
            "_view_count": null,
            "_view_module_version": "1.5.0",
            "description_tooltip": null,
            "_model_module": "@jupyter-widgets/controls",
            "layout": "IPY_MODEL_872e2231a01b498eaf3fec346c10ebb0"
          }
        },
        "fcc4a2821c8f4bc6a51430d2da5f14e6": {
          "model_module": "@jupyter-widgets/controls",
          "model_name": "ProgressStyleModel",
          "state": {
            "_view_name": "StyleView",
            "_model_name": "ProgressStyleModel",
            "description_width": "initial",
            "_view_module": "@jupyter-widgets/base",
            "_model_module_version": "1.5.0",
            "_view_count": null,
            "_view_module_version": "1.2.0",
            "bar_color": null,
            "_model_module": "@jupyter-widgets/controls"
          }
        },
        "53fcfffbec06440293a11f761f2938d3": {
          "model_module": "@jupyter-widgets/base",
          "model_name": "LayoutModel",
          "state": {
            "_view_name": "LayoutView",
            "grid_template_rows": null,
            "right": null,
            "justify_content": null,
            "_view_module": "@jupyter-widgets/base",
            "overflow": null,
            "_model_module_version": "1.2.0",
            "_view_count": null,
            "flex_flow": null,
            "width": null,
            "min_width": null,
            "border": null,
            "align_items": null,
            "bottom": null,
            "_model_module": "@jupyter-widgets/base",
            "top": null,
            "grid_column": null,
            "overflow_y": null,
            "overflow_x": null,
            "grid_auto_flow": null,
            "grid_area": null,
            "grid_template_columns": null,
            "flex": null,
            "_model_name": "LayoutModel",
            "justify_items": null,
            "grid_row": null,
            "max_height": null,
            "align_content": null,
            "visibility": null,
            "align_self": null,
            "height": null,
            "min_height": null,
            "padding": null,
            "grid_auto_rows": null,
            "grid_gap": null,
            "max_width": null,
            "order": null,
            "_view_module_version": "1.2.0",
            "grid_template_areas": null,
            "object_position": null,
            "object_fit": null,
            "grid_auto_columns": null,
            "margin": null,
            "display": null,
            "left": null
          }
        },
        "124e9b9c95f74c6ea6ed6a75005541c0": {
          "model_module": "@jupyter-widgets/controls",
          "model_name": "DescriptionStyleModel",
          "state": {
            "_view_name": "StyleView",
            "_model_name": "DescriptionStyleModel",
            "description_width": "",
            "_view_module": "@jupyter-widgets/base",
            "_model_module_version": "1.5.0",
            "_view_count": null,
            "_view_module_version": "1.2.0",
            "_model_module": "@jupyter-widgets/controls"
          }
        },
        "872e2231a01b498eaf3fec346c10ebb0": {
          "model_module": "@jupyter-widgets/base",
          "model_name": "LayoutModel",
          "state": {
            "_view_name": "LayoutView",
            "grid_template_rows": null,
            "right": null,
            "justify_content": null,
            "_view_module": "@jupyter-widgets/base",
            "overflow": null,
            "_model_module_version": "1.2.0",
            "_view_count": null,
            "flex_flow": null,
            "width": null,
            "min_width": null,
            "border": null,
            "align_items": null,
            "bottom": null,
            "_model_module": "@jupyter-widgets/base",
            "top": null,
            "grid_column": null,
            "overflow_y": null,
            "overflow_x": null,
            "grid_auto_flow": null,
            "grid_area": null,
            "grid_template_columns": null,
            "flex": null,
            "_model_name": "LayoutModel",
            "justify_items": null,
            "grid_row": null,
            "max_height": null,
            "align_content": null,
            "visibility": null,
            "align_self": null,
            "height": null,
            "min_height": null,
            "padding": null,
            "grid_auto_rows": null,
            "grid_gap": null,
            "max_width": null,
            "order": null,
            "_view_module_version": "1.2.0",
            "grid_template_areas": null,
            "object_position": null,
            "object_fit": null,
            "grid_auto_columns": null,
            "margin": null,
            "display": null,
            "left": null
          }
        },
        "ecaae57822f44611a76bd810ce75acbb": {
          "model_module": "@jupyter-widgets/controls",
          "model_name": "HBoxModel",
          "state": {
            "_view_name": "HBoxView",
            "_dom_classes": [],
            "_model_name": "HBoxModel",
            "_view_module": "@jupyter-widgets/controls",
            "_model_module_version": "1.5.0",
            "_view_count": null,
            "_view_module_version": "1.5.0",
            "box_style": "",
            "layout": "IPY_MODEL_5bf5b8b74d7d49f38c32514228a762f7",
            "_model_module": "@jupyter-widgets/controls",
            "children": [
              "IPY_MODEL_c3b02925107643cf997a3bcc7f6a54fe",
              "IPY_MODEL_0f246165811f4e0cb9a5bef396447787"
            ]
          }
        },
        "5bf5b8b74d7d49f38c32514228a762f7": {
          "model_module": "@jupyter-widgets/base",
          "model_name": "LayoutModel",
          "state": {
            "_view_name": "LayoutView",
            "grid_template_rows": null,
            "right": null,
            "justify_content": null,
            "_view_module": "@jupyter-widgets/base",
            "overflow": null,
            "_model_module_version": "1.2.0",
            "_view_count": null,
            "flex_flow": null,
            "width": null,
            "min_width": null,
            "border": null,
            "align_items": null,
            "bottom": null,
            "_model_module": "@jupyter-widgets/base",
            "top": null,
            "grid_column": null,
            "overflow_y": null,
            "overflow_x": null,
            "grid_auto_flow": null,
            "grid_area": null,
            "grid_template_columns": null,
            "flex": null,
            "_model_name": "LayoutModel",
            "justify_items": null,
            "grid_row": null,
            "max_height": null,
            "align_content": null,
            "visibility": null,
            "align_self": null,
            "height": null,
            "min_height": null,
            "padding": null,
            "grid_auto_rows": null,
            "grid_gap": null,
            "max_width": null,
            "order": null,
            "_view_module_version": "1.2.0",
            "grid_template_areas": null,
            "object_position": null,
            "object_fit": null,
            "grid_auto_columns": null,
            "margin": null,
            "display": null,
            "left": null
          }
        },
        "c3b02925107643cf997a3bcc7f6a54fe": {
          "model_module": "@jupyter-widgets/controls",
          "model_name": "FloatProgressModel",
          "state": {
            "_view_name": "ProgressView",
            "style": "IPY_MODEL_dbf40c85a4ee4d8c8928ff679ed9309d",
            "_dom_classes": [],
            "description": "100%",
            "_model_name": "FloatProgressModel",
            "bar_style": "success",
            "max": 32342954,
            "_view_module": "@jupyter-widgets/controls",
            "_model_module_version": "1.5.0",
            "value": 32342954,
            "_view_count": null,
            "_view_module_version": "1.5.0",
            "orientation": "horizontal",
            "min": 0,
            "description_tooltip": null,
            "_model_module": "@jupyter-widgets/controls",
            "layout": "IPY_MODEL_21c8320ea9824a8383a9ee99ed6cdb6a"
          }
        },
        "0f246165811f4e0cb9a5bef396447787": {
          "model_module": "@jupyter-widgets/controls",
          "model_name": "HTMLModel",
          "state": {
            "_view_name": "HTMLView",
            "style": "IPY_MODEL_82be61cda6ab4f629c5ddf97b8937efe",
            "_dom_classes": [],
            "description": "",
            "_model_name": "HTMLModel",
            "placeholder": "​",
            "_view_module": "@jupyter-widgets/controls",
            "_model_module_version": "1.5.0",
            "value": " 30.8M/30.8M [00:03&lt;00:00, 10.3MB/s]",
            "_view_count": null,
            "_view_module_version": "1.5.0",
            "description_tooltip": null,
            "_model_module": "@jupyter-widgets/controls",
            "layout": "IPY_MODEL_37c52e51682b4354a22580c4b20db8b5"
          }
        },
        "dbf40c85a4ee4d8c8928ff679ed9309d": {
          "model_module": "@jupyter-widgets/controls",
          "model_name": "ProgressStyleModel",
          "state": {
            "_view_name": "StyleView",
            "_model_name": "ProgressStyleModel",
            "description_width": "initial",
            "_view_module": "@jupyter-widgets/base",
            "_model_module_version": "1.5.0",
            "_view_count": null,
            "_view_module_version": "1.2.0",
            "bar_color": null,
            "_model_module": "@jupyter-widgets/controls"
          }
        },
        "21c8320ea9824a8383a9ee99ed6cdb6a": {
          "model_module": "@jupyter-widgets/base",
          "model_name": "LayoutModel",
          "state": {
            "_view_name": "LayoutView",
            "grid_template_rows": null,
            "right": null,
            "justify_content": null,
            "_view_module": "@jupyter-widgets/base",
            "overflow": null,
            "_model_module_version": "1.2.0",
            "_view_count": null,
            "flex_flow": null,
            "width": null,
            "min_width": null,
            "border": null,
            "align_items": null,
            "bottom": null,
            "_model_module": "@jupyter-widgets/base",
            "top": null,
            "grid_column": null,
            "overflow_y": null,
            "overflow_x": null,
            "grid_auto_flow": null,
            "grid_area": null,
            "grid_template_columns": null,
            "flex": null,
            "_model_name": "LayoutModel",
            "justify_items": null,
            "grid_row": null,
            "max_height": null,
            "align_content": null,
            "visibility": null,
            "align_self": null,
            "height": null,
            "min_height": null,
            "padding": null,
            "grid_auto_rows": null,
            "grid_gap": null,
            "max_width": null,
            "order": null,
            "_view_module_version": "1.2.0",
            "grid_template_areas": null,
            "object_position": null,
            "object_fit": null,
            "grid_auto_columns": null,
            "margin": null,
            "display": null,
            "left": null
          }
        },
        "82be61cda6ab4f629c5ddf97b8937efe": {
          "model_module": "@jupyter-widgets/controls",
          "model_name": "DescriptionStyleModel",
          "state": {
            "_view_name": "StyleView",
            "_model_name": "DescriptionStyleModel",
            "description_width": "",
            "_view_module": "@jupyter-widgets/base",
            "_model_module_version": "1.5.0",
            "_view_count": null,
            "_view_module_version": "1.2.0",
            "_model_module": "@jupyter-widgets/controls"
          }
        },
        "37c52e51682b4354a22580c4b20db8b5": {
          "model_module": "@jupyter-widgets/base",
          "model_name": "LayoutModel",
          "state": {
            "_view_name": "LayoutView",
            "grid_template_rows": null,
            "right": null,
            "justify_content": null,
            "_view_module": "@jupyter-widgets/base",
            "overflow": null,
            "_model_module_version": "1.2.0",
            "_view_count": null,
            "flex_flow": null,
            "width": null,
            "min_width": null,
            "border": null,
            "align_items": null,
            "bottom": null,
            "_model_module": "@jupyter-widgets/base",
            "top": null,
            "grid_column": null,
            "overflow_y": null,
            "overflow_x": null,
            "grid_auto_flow": null,
            "grid_area": null,
            "grid_template_columns": null,
            "flex": null,
            "_model_name": "LayoutModel",
            "justify_items": null,
            "grid_row": null,
            "max_height": null,
            "align_content": null,
            "visibility": null,
            "align_self": null,
            "height": null,
            "min_height": null,
            "padding": null,
            "grid_auto_rows": null,
            "grid_gap": null,
            "max_width": null,
            "order": null,
            "_view_module_version": "1.2.0",
            "grid_template_areas": null,
            "object_position": null,
            "object_fit": null,
            "grid_auto_columns": null,
            "margin": null,
            "display": null,
            "left": null
          }
        }
      }
    }
  },
  "cells": [
    {
      "cell_type": "markdown",
      "metadata": {
        "id": "LrOsNf_gLlqN"
      },
      "source": [
        "# Dependencies"
      ]
    },
    {
      "cell_type": "code",
      "metadata": {
        "colab": {
          "base_uri": "https://localhost:8080/"
        },
        "id": "0FluFIWJJBXc",
        "outputId": "8036b537-da98-4992-b048-2741004b505c"
      },
      "source": [
        "import torch\n",
        "import torch.nn as nn\n",
        "import torch.optim as optim\n",
        "import numpy as np\n",
        "import torchvision\n",
        "from torchvision import datasets, models, transforms\n",
        "from tqdm import tqdm\n",
        "import matplotlib.pyplot as plt\n",
        "import time\n",
        "import os\n",
        "import copy\n",
        "import PIL\n",
        "\n",
        "from google.colab import drive\n",
        "import pandas as pd\n",
        "import csv\n",
        "from PIL import Image\n",
        "import torchvision.transforms.functional as TF\n",
        "from torch.utils.data import DataLoader, RandomSampler, random_split\n",
        "\n",
        "drive.mount(\"/gdrive/\")"
      ],
      "execution_count": null,
      "outputs": [
        {
          "output_type": "stream",
          "text": [
            "Mounted at /gdrive/\n"
          ],
          "name": "stdout"
        }
      ]
    },
    {
      "cell_type": "markdown",
      "metadata": {
        "id": "7IU30c426esj"
      },
      "source": [
        "# Parameters\n",
        "\n",
        "Set filepath, model, and hyperparameters."
      ]
    },
    {
      "cell_type": "code",
      "metadata": {
        "id": "DnoxuHDxnEad"
      },
      "source": [
        "# Filepath for bird images\n",
        "filepath = '/gdrive/My Drive/CSE 455 Final Project/birds21wi'\n",
        "models_filepath = '/gdrive/MyDrive/CSE 455 Final Project/models/'\n",
        "test_output_filepath = '/gdrive/MyDrive/CSE 455 Final Project/test_results/'\n",
        "\n",
        "num_classes = 555\n",
        "\n",
        "# Model\n",
        "model_name = 'vgg'\n",
        "\n",
        "# Hyperparameters\n",
        "batch_size = 128\n",
        "num_epochs = 30\n",
        "\n",
        "WEIGHT_DECAY = 0.001\n",
        "MOMENTUM = 0.9\n",
        "LEARNING_RATE = 0.002\n",
        "\n",
        "# Flag for feature extracting. When False, we finetune the whole model,\n",
        "#   when True we only update the reshaped layer params\n",
        "feature_extract = False"
      ],
      "execution_count": null,
      "outputs": []
    },
    {
      "cell_type": "markdown",
      "metadata": {
        "id": "9-tWawXHNE_w"
      },
      "source": [
        "# Loading Data Subset\n",
        "\n",
        "This section loads data from Drive. It will load 12k samples for training and 1.5k for validation. This is used for hyperparameter tuning."
      ]
    },
    {
      "cell_type": "code",
      "metadata": {
        "id": "GDcxR6QJ4zM_"
      },
      "source": [
        "preprocess = transforms.Compose([\n",
        "        transforms.Resize(128),\n",
        "        transforms.RandomCrop(128, padding=8, padding_mode='edge'), # Take 128x128 crops from padded images\n",
        "        transforms.RandomHorizontalFlip(),    # 50% of time flip image along y-axis\n",
        "        transforms.ToTensor(),\n",
        "    ])"
      ],
      "execution_count": null,
      "outputs": []
    },
    {
      "cell_type": "code",
      "metadata": {
        "colab": {
          "base_uri": "https://localhost:8080/"
        },
        "id": "VUVBn27jOy2f",
        "outputId": "452299e9-6c0a-4b10-dbf5-9e1847e440a7"
      },
      "source": [
        "# Load label map\n",
        "\n",
        "label_map = {}\n",
        "\n",
        "# Load labels\n",
        "with open(filepath + '/labels.csv') as csvfile:\n",
        "    reader = csv.reader(csvfile)\n",
        "    next(reader)\n",
        "    for line in reader:\n",
        "        label_map[line[0]] = line[1]\n",
        "\n",
        "print(f'Number of train samples: {len(label_map.keys())}')\n",
        "print(f'Number of classes: {num_classes}')\n",
        "# print(f'Number of test samples: {len(os.listdir(f\"{filepath}/test/test\"))')"
      ],
      "execution_count": null,
      "outputs": [
        {
          "output_type": "stream",
          "text": [
            "Number of train samples: 38562\n",
            "Number of classes: 555\n"
          ],
          "name": "stdout"
        }
      ]
    },
    {
      "cell_type": "code",
      "metadata": {
        "id": "Eb-o6gNM_3U3",
        "colab": {
          "base_uri": "https://localhost:8080/"
        },
        "outputId": "ededa352-17f8-407b-a591-c12fcc14f6b4"
      },
      "source": [
        "# Load training images\n",
        "\n",
        "train_dataset = []\n",
        "val_dataset = []\n",
        "\n",
        "# Set limit to images\n",
        "all_files = list(label_map.keys())\n",
        "train_files = all_files[:12000]\n",
        "val_files = all_files[12000:13500]\n",
        "\n",
        "for ind_filename in tqdm(train_files, position=0, leave=True):\n",
        "    image = Image.open(f'{filepath}/train/{ind_filename}')\n",
        "    tensor = preprocess(image)\n",
        "    train_dataset.append((tensor, int(label_map[ind_filename])))\n",
        "\n",
        "for ind_filename in tqdm(val_files, position=0, leave=True):\n",
        "    image = Image.open(f'{filepath}/train/{ind_filename}')\n",
        "    tensor = preprocess(image)\n",
        "    val_dataset.append((tensor, int(label_map[ind_filename])))\n",
        "\n",
        "print(f'Train size: {len(train_dataset)}')\n",
        "print(f'Val size: {len(train_dataset)}')"
      ],
      "execution_count": null,
      "outputs": [
        {
          "output_type": "stream",
          "text": [
            "100%|██████████| 12000/12000 [43:03<00:00,  4.65it/s]\n",
            "100%|██████████| 1500/1500 [05:17<00:00,  4.72it/s]"
          ],
          "name": "stderr"
        },
        {
          "output_type": "stream",
          "text": [
            "Train size: 12000\n",
            "Val size: 12000\n"
          ],
          "name": "stdout"
        },
        {
          "output_type": "stream",
          "text": [
            "\n"
          ],
          "name": "stderr"
        }
      ]
    },
    {
      "cell_type": "code",
      "metadata": {
        "id": "8I-Qf9cp6as1"
      },
      "source": [
        "# Build Dataloader\n",
        "train_dataloader = DataLoader(\n",
        "    train_dataset,\n",
        "    batch_size=batch_size,\n",
        "    sampler = RandomSampler(train_dataset)\n",
        ")\n",
        "\n",
        "val_dataloader = DataLoader(\n",
        "    val_dataset,\n",
        "    batch_size=batch_size,\n",
        "    sampler = RandomSampler(val_dataset)\n",
        ")\n",
        "\n",
        "# Train / Val Dataloader\n",
        "dataloaders_dict = {'train': train_dataloader, 'val': val_dataloader}"
      ],
      "execution_count": null,
      "outputs": []
    },
    {
      "cell_type": "markdown",
      "metadata": {
        "id": "4dr3q5nwoE7B"
      },
      "source": [
        "# Loading Entire Dataset\n",
        "\n",
        "This section loads the entire birds dataset via Kaggle CLI. This was copied from the tutorial posted by the instructor."
      ]
    },
    {
      "cell_type": "code",
      "metadata": {
        "colab": {
          "base_uri": "https://localhost:8080/"
        },
        "id": "57e82bXqoHrU",
        "outputId": "00a36e00-a53b-48ed-8987-c6bdd689cf59"
      },
      "source": [
        "drive.mount('/content/drive')\n",
        "checkpoints = '/content/drive/MyDrive/colab_files/birds/'\n",
        "if not os.path.exists(checkpoints):\n",
        "    os.makedirs(checkpoints)"
      ],
      "execution_count": null,
      "outputs": [
        {
          "output_type": "stream",
          "text": [
            "Mounted at /content/drive\n"
          ],
          "name": "stdout"
        }
      ]
    },
    {
      "cell_type": "code",
      "metadata": {
        "colab": {
          "base_uri": "https://localhost:8080/"
        },
        "id": "o9I_wkC5oTus",
        "outputId": "b4daefdc-279d-4eaf-cf72-49d78741804b"
      },
      "source": [
        "if not os.path.exists('birds21wi'):\n",
        "    !mkdir birds21wi\n",
        "    os.chdir('birds21wi')\n",
        "    !wget https://pjreddie.com/media/files/birds/train.tar\n",
        "    !wget https://pjreddie.com/media/files/birds/test.tar\n",
        "    !wget https://pjreddie.com/media/files/birds/names.txt\n",
        "    !tar xf train.tar\n",
        "    !tar xf test.tar\n",
        "    !mkdir testing\n",
        "    !mv test testing\n",
        "    os.chdir('..')"
      ],
      "execution_count": null,
      "outputs": [
        {
          "output_type": "stream",
          "text": [
            "--2021-03-14 19:37:13--  https://pjreddie.com/media/files/birds/train.tar\n",
            "Resolving pjreddie.com (pjreddie.com)... 128.208.4.108\n",
            "Connecting to pjreddie.com (pjreddie.com)|128.208.4.108|:443... connected.\n",
            "HTTP request sent, awaiting response... 200 OK\n",
            "Length: 7970048512 (7.4G) [application/octet-stream]\n",
            "Saving to: ‘train.tar’\n",
            "\n",
            "train.tar           100%[===================>]   7.42G  42.6MB/s    in 4m 12s  \n",
            "\n",
            "2021-03-14 19:41:26 (30.1 MB/s) - ‘train.tar’ saved [7970048512/7970048512]\n",
            "\n",
            "--2021-03-14 19:41:26--  https://pjreddie.com/media/files/birds/test.tar\n",
            "Resolving pjreddie.com (pjreddie.com)... 128.208.4.108\n",
            "Connecting to pjreddie.com (pjreddie.com)|128.208.4.108|:443... connected.\n",
            "HTTP request sent, awaiting response... 200 OK\n",
            "Length: 2057210880 (1.9G) [application/octet-stream]\n",
            "Saving to: ‘test.tar’\n",
            "\n",
            "test.tar            100%[===================>]   1.92G  7.64MB/s    in 3m 49s  \n",
            "\n",
            "2021-03-14 19:45:16 (8.56 MB/s) - ‘test.tar’ saved [2057210880/2057210880]\n",
            "\n",
            "--2021-03-14 19:45:16--  https://pjreddie.com/media/files/birds/names.txt\n",
            "Resolving pjreddie.com (pjreddie.com)... 128.208.4.108\n",
            "Connecting to pjreddie.com (pjreddie.com)|128.208.4.108|:443... connected.\n",
            "HTTP request sent, awaiting response... 200 OK\n",
            "Length: 13755 (13K) [text/plain]\n",
            "Saving to: ‘names.txt’\n",
            "\n",
            "names.txt           100%[===================>]  13.43K  --.-KB/s    in 0s      \n",
            "\n",
            "2021-03-14 19:45:16 (385 MB/s) - ‘names.txt’ saved [13755/13755]\n",
            "\n"
          ],
          "name": "stdout"
        }
      ]
    },
    {
      "cell_type": "code",
      "metadata": {
        "id": "3vKJFCSlocS7"
      },
      "source": [
        "def get_bird_data(augmentation=0):\n",
        "    transform_train = transforms.Compose([\n",
        "        transforms.Resize(128),\n",
        "        transforms.RandomCrop(128, padding=8, padding_mode='edge'), # Take 128x128 crops from padded images\n",
        "        transforms.RandomHorizontalFlip(),    # 50% of time flip image along y-axis\n",
        "        transforms.ToTensor(),\n",
        "    ])\n",
        "    \n",
        "    transform_test = transforms.Compose([\n",
        "        transforms.Resize(128),\n",
        "        transforms.ToTensor(),\n",
        "    ])\n",
        "    full_dataset = torchvision.datasets.ImageFolder(root='birds21wi/train', transform=transform_train)\n",
        "\n",
        "    # Train / Val split\n",
        "    train_size = int(0.9 * len(full_dataset))\n",
        "    val_size = len(full_dataset) - train_size\n",
        "    train_dataset, val_dataset = random_split(full_dataset, [train_size, val_size])\n",
        "\n",
        "    trainloader = torch.utils.data.DataLoader(train_dataset, batch_size=batch_size, shuffle=True, num_workers=2)\n",
        "    valloader = torch.utils.data.DataLoader(val_dataset, batch_size=batch_size, shuffle=True, num_workers=2)\n",
        "\n",
        "    testset = torchvision.datasets.ImageFolder(root='birds21wi/testing', transform=transform_test)\n",
        "    testloader = torch.utils.data.DataLoader(testset, batch_size=1, shuffle=False, num_workers=2)\n",
        "    classes = open(\"birds21wi/names.txt\").read().strip().split(\"\\n\")\n",
        "    class_to_idx = full_dataset.class_to_idx\n",
        "    idx_to_class = {int(v): int(k) for k, v in class_to_idx.items()}\n",
        "    idx_to_name = {k: classes[v] for k,v in idx_to_class.items()}\n",
        "    return {'train': trainloader, 'val': valloader, 'test': testloader, 'to_class': idx_to_class, 'to_name':idx_to_name}\n",
        "\n",
        "data = get_bird_data()"
      ],
      "execution_count": null,
      "outputs": []
    },
    {
      "cell_type": "code",
      "metadata": {
        "colab": {
          "base_uri": "https://localhost:8080/"
        },
        "id": "NZV4BWHCoeG3",
        "outputId": "ca8bf40d-225a-4403-e077-e3dae8eb825c"
      },
      "source": [
        "print(data['to_class'])"
      ],
      "execution_count": null,
      "outputs": [
        {
          "output_type": "stream",
          "text": [
            "{0: 0, 1: 1, 2: 10, 3: 100, 4: 101, 5: 102, 6: 103, 7: 104, 8: 105, 9: 106, 10: 107, 11: 108, 12: 109, 13: 11, 14: 110, 15: 111, 16: 112, 17: 113, 18: 114, 19: 115, 20: 116, 21: 117, 22: 118, 23: 119, 24: 12, 25: 120, 26: 121, 27: 122, 28: 123, 29: 124, 30: 125, 31: 126, 32: 127, 33: 128, 34: 129, 35: 13, 36: 130, 37: 131, 38: 132, 39: 133, 40: 134, 41: 135, 42: 136, 43: 137, 44: 138, 45: 139, 46: 14, 47: 140, 48: 141, 49: 142, 50: 143, 51: 144, 52: 145, 53: 146, 54: 147, 55: 148, 56: 149, 57: 15, 58: 150, 59: 151, 60: 152, 61: 153, 62: 154, 63: 155, 64: 156, 65: 157, 66: 158, 67: 159, 68: 16, 69: 160, 70: 161, 71: 162, 72: 163, 73: 164, 74: 165, 75: 166, 76: 167, 77: 168, 78: 169, 79: 17, 80: 170, 81: 171, 82: 172, 83: 173, 84: 174, 85: 175, 86: 176, 87: 177, 88: 178, 89: 179, 90: 18, 91: 180, 92: 181, 93: 182, 94: 183, 95: 184, 96: 185, 97: 186, 98: 187, 99: 188, 100: 189, 101: 19, 102: 190, 103: 191, 104: 192, 105: 193, 106: 194, 107: 195, 108: 196, 109: 197, 110: 198, 111: 199, 112: 2, 113: 20, 114: 200, 115: 201, 116: 202, 117: 203, 118: 204, 119: 205, 120: 206, 121: 207, 122: 208, 123: 209, 124: 21, 125: 210, 126: 211, 127: 212, 128: 213, 129: 214, 130: 215, 131: 216, 132: 217, 133: 218, 134: 219, 135: 22, 136: 220, 137: 221, 138: 222, 139: 223, 140: 224, 141: 225, 142: 226, 143: 227, 144: 228, 145: 229, 146: 23, 147: 230, 148: 231, 149: 232, 150: 233, 151: 234, 152: 235, 153: 236, 154: 237, 155: 238, 156: 239, 157: 24, 158: 240, 159: 241, 160: 242, 161: 243, 162: 244, 163: 245, 164: 246, 165: 247, 166: 248, 167: 249, 168: 25, 169: 250, 170: 251, 171: 252, 172: 253, 173: 254, 174: 255, 175: 256, 176: 257, 177: 258, 178: 259, 179: 26, 180: 260, 181: 261, 182: 262, 183: 263, 184: 264, 185: 265, 186: 266, 187: 267, 188: 268, 189: 269, 190: 27, 191: 270, 192: 271, 193: 272, 194: 273, 195: 274, 196: 275, 197: 276, 198: 277, 199: 278, 200: 279, 201: 28, 202: 280, 203: 281, 204: 282, 205: 283, 206: 284, 207: 285, 208: 286, 209: 287, 210: 288, 211: 289, 212: 29, 213: 290, 214: 291, 215: 292, 216: 293, 217: 294, 218: 295, 219: 296, 220: 297, 221: 298, 222: 299, 223: 3, 224: 30, 225: 300, 226: 301, 227: 302, 228: 303, 229: 304, 230: 305, 231: 306, 232: 307, 233: 308, 234: 309, 235: 31, 236: 310, 237: 311, 238: 312, 239: 313, 240: 314, 241: 315, 242: 316, 243: 317, 244: 318, 245: 319, 246: 32, 247: 320, 248: 321, 249: 322, 250: 323, 251: 324, 252: 325, 253: 326, 254: 327, 255: 328, 256: 329, 257: 33, 258: 330, 259: 331, 260: 332, 261: 333, 262: 334, 263: 335, 264: 336, 265: 337, 266: 338, 267: 339, 268: 34, 269: 340, 270: 341, 271: 342, 272: 343, 273: 344, 274: 345, 275: 346, 276: 347, 277: 348, 278: 349, 279: 35, 280: 350, 281: 351, 282: 352, 283: 353, 284: 354, 285: 355, 286: 356, 287: 357, 288: 358, 289: 359, 290: 36, 291: 360, 292: 361, 293: 362, 294: 363, 295: 364, 296: 365, 297: 366, 298: 367, 299: 368, 300: 369, 301: 37, 302: 370, 303: 371, 304: 372, 305: 373, 306: 374, 307: 375, 308: 376, 309: 377, 310: 378, 311: 379, 312: 38, 313: 380, 314: 381, 315: 382, 316: 383, 317: 384, 318: 385, 319: 386, 320: 387, 321: 388, 322: 389, 323: 39, 324: 390, 325: 391, 326: 392, 327: 393, 328: 394, 329: 395, 330: 396, 331: 397, 332: 398, 333: 399, 334: 4, 335: 40, 336: 400, 337: 401, 338: 402, 339: 403, 340: 404, 341: 405, 342: 406, 343: 407, 344: 408, 345: 409, 346: 41, 347: 410, 348: 411, 349: 412, 350: 413, 351: 414, 352: 415, 353: 416, 354: 417, 355: 418, 356: 419, 357: 42, 358: 420, 359: 421, 360: 422, 361: 423, 362: 424, 363: 425, 364: 426, 365: 427, 366: 428, 367: 429, 368: 43, 369: 430, 370: 431, 371: 432, 372: 433, 373: 434, 374: 435, 375: 436, 376: 437, 377: 438, 378: 439, 379: 44, 380: 440, 381: 441, 382: 442, 383: 443, 384: 444, 385: 445, 386: 446, 387: 447, 388: 448, 389: 449, 390: 45, 391: 450, 392: 451, 393: 452, 394: 453, 395: 454, 396: 455, 397: 456, 398: 457, 399: 458, 400: 459, 401: 46, 402: 460, 403: 461, 404: 462, 405: 463, 406: 464, 407: 465, 408: 466, 409: 467, 410: 468, 411: 469, 412: 47, 413: 470, 414: 471, 415: 472, 416: 473, 417: 474, 418: 475, 419: 476, 420: 477, 421: 478, 422: 479, 423: 48, 424: 480, 425: 481, 426: 482, 427: 483, 428: 484, 429: 485, 430: 486, 431: 487, 432: 488, 433: 489, 434: 49, 435: 490, 436: 491, 437: 492, 438: 493, 439: 494, 440: 495, 441: 496, 442: 497, 443: 498, 444: 499, 445: 5, 446: 50, 447: 500, 448: 501, 449: 502, 450: 503, 451: 504, 452: 505, 453: 506, 454: 507, 455: 508, 456: 509, 457: 51, 458: 510, 459: 511, 460: 512, 461: 513, 462: 514, 463: 515, 464: 516, 465: 517, 466: 518, 467: 519, 468: 52, 469: 520, 470: 521, 471: 522, 472: 523, 473: 524, 474: 525, 475: 526, 476: 527, 477: 528, 478: 529, 479: 53, 480: 530, 481: 531, 482: 532, 483: 533, 484: 534, 485: 535, 486: 536, 487: 537, 488: 538, 489: 539, 490: 54, 491: 540, 492: 541, 493: 542, 494: 543, 495: 544, 496: 545, 497: 546, 498: 547, 499: 548, 500: 549, 501: 55, 502: 550, 503: 551, 504: 552, 505: 553, 506: 554, 507: 56, 508: 57, 509: 58, 510: 59, 511: 6, 512: 60, 513: 61, 514: 62, 515: 63, 516: 64, 517: 65, 518: 66, 519: 67, 520: 68, 521: 69, 522: 7, 523: 70, 524: 71, 525: 72, 526: 73, 527: 74, 528: 75, 529: 76, 530: 77, 531: 78, 532: 79, 533: 8, 534: 80, 535: 81, 536: 82, 537: 83, 538: 84, 539: 85, 540: 86, 541: 87, 542: 88, 543: 89, 544: 9, 545: 90, 546: 91, 547: 92, 548: 93, 549: 94, 550: 95, 551: 96, 552: 97, 553: 98, 554: 99}\n"
          ],
          "name": "stdout"
        }
      ]
    },
    {
      "cell_type": "code",
      "metadata": {
        "colab": {
          "base_uri": "https://localhost:8080/"
        },
        "id": "b_ZGYP3mofQP",
        "outputId": "69c9aa72-9f4c-4f7e-f1e3-53867bf805ee"
      },
      "source": [
        "dataiter = iter(data['train'])\n",
        "images, labels = dataiter.next()\n",
        "images = images[:8]\n",
        "print(images.size())\n",
        "\n",
        "def imshow(img):\n",
        "    npimg = img.numpy()\n",
        "    plt.imshow(np.transpose(npimg, (1, 2, 0)))\n",
        "    plt.show()\n",
        "\n",
        "# show images\n",
        "imshow(torchvision.utils.make_grid(images))\n",
        "# print labels\n",
        "print(\"Labels:\" + ', '.join('%9s' % data['to_name'][labels[j].item()] for j in range(8)))"
      ],
      "execution_count": null,
      "outputs": [
        {
          "output_type": "stream",
          "text": [
            "torch.Size([8, 3, 128, 128])\n"
          ],
          "name": "stdout"
        },
        {
          "output_type": "display_data",
          "data": {
            "image/png": "[encoded data removed]",
            "text/plain": [
              "<Figure size 432x288 with 1 Axes>"
            ]
          },
          "metadata": {
            "tags": [],
            "needs_background": "light"
          }
        },
        {
          "output_type": "stream",
          "text": [
            "Labels:Western Tanager (Breeding Male), Red-headed Woodpecker (Adult), Double-crested Cormorant (Immature), Eastern Phoebe, Spotted Towhee, Wilson's Phalarope (Nonbreeding, juvenile), Great Egret, Yellow-crowned Night-Heron (Immature)\n"
          ],
          "name": "stdout"
        }
      ]
    },
    {
      "cell_type": "markdown",
      "metadata": {
        "id": "PsLOKJt8l6aw"
      },
      "source": [
        "# Model Setup\n",
        "\n",
        "Sets up helper functions for model loading and training. These methods are copied from the [PyTorch tutorial on finetuning pretrained models](https://pytorch.org/tutorials/beginner/finetuning_torchvision_models_tutorial.html). Slight modifications were made for this project."
      ]
    },
    {
      "cell_type": "code",
      "metadata": {
        "id": "xxFyCTHlcvJl"
      },
      "source": [
        "def train_model(model, dataloaders, criterion, optimizer, num_epochs=25, state=None, is_inception=False):\n",
        "    since = time.time()\n",
        "    epoch_interval = time.time()\n",
        "    start_epoch = 0\n",
        "\n",
        "    hist = {\n",
        "        'train': [],\n",
        "        'val': []\n",
        "    }\n",
        "\n",
        "    # Load previous training state\n",
        "    if state:\n",
        "        model.load_state_dict(state['net'])\n",
        "        optimizer.load_state_dict(state['optimizer'])\n",
        "        start_epoch = state['epoch']\n",
        "\n",
        "    best_model_wts = copy.deepcopy(model.state_dict())\n",
        "    best_acc = 0.0\n",
        "\n",
        "    for epoch in range(start_epoch, start_epoch + num_epochs):\n",
        "        print('Epoch {}/{}'.format(epoch, num_epochs - 1 + start_epoch))\n",
        "        print('-' * 10)\n",
        "\n",
        "        # Each epoch has a training and validation phase\n",
        "        for phase in ['train', 'val']:\n",
        "            if phase == 'train':\n",
        "                model.train()  # Set model to training mode\n",
        "            else:\n",
        "                model.eval()   # Set model to evaluate mode\n",
        "\n",
        "            running_loss = 0.0\n",
        "            running_corrects = 0\n",
        "\n",
        "            # Iterate over data.\n",
        "            for inputs, labels in dataloaders[phase]:\n",
        "                inputs = inputs.to(device)\n",
        "                labels = labels.to(device)\n",
        "\n",
        "                # zero the parameter gradients\n",
        "                optimizer.zero_grad()\n",
        "\n",
        "                # forward\n",
        "                # track history if only in train\n",
        "                with torch.set_grad_enabled(phase == 'train'):\n",
        "                    # Get model outputs and calculate loss\n",
        "                    # Special case for inception because in training it has an auxiliary output. In train\n",
        "                    #   mode we calculate the loss by summing the final output and the auxiliary output\n",
        "                    #   but in testing we only consider the final output.\n",
        "                    outputs = model(inputs)\n",
        "\n",
        "                    loss = criterion(outputs, labels)\n",
        "\n",
        "                    _, preds = torch.max(outputs, 1)\n",
        "\n",
        "                    # backward + optimize only if in training phase\n",
        "                    if phase == 'train':\n",
        "                        loss.backward()\n",
        "                        optimizer.step()\n",
        "\n",
        "                # statistics\n",
        "                running_loss += loss.item() * inputs.size(0)\n",
        "                running_corrects += torch.sum(preds == labels.data)\n",
        "\n",
        "            epoch_loss = running_loss / len(dataloaders[phase].dataset)\n",
        "            epoch_acc = running_corrects.double() / len(dataloaders[phase].dataset)\n",
        "\n",
        "            print('{} Loss: {:.4f} Acc: {:.4f}'.format(phase, epoch_loss, epoch_acc))\n",
        "\n",
        "            # deep copy the model\n",
        "            if phase == 'val' and epoch_acc > best_acc:\n",
        "                best_acc = epoch_acc\n",
        "                best_model_wts = copy.deepcopy(model.state_dict())\n",
        "\n",
        "            hist[phase].append(epoch_acc)\n",
        "\n",
        "            epoch_time_elapsed = time.time() - epoch_interval\n",
        "            print(phase + 'complete in {:.0f}m {:.0f}s'.format(epoch_time_elapsed // 60, epoch_time_elapsed % 60))\n",
        "            epoch_interval = time.time()\n",
        "\n",
        "        print()\n",
        "\n",
        "    time_elapsed = time.time() - since\n",
        "    print('Training complete in {:.0f}m {:.0f}s'.format(time_elapsed // 60, time_elapsed % 60))\n",
        "    print('Best val Acc: {:4f}'.format(best_acc))\n",
        "\n",
        "    # load best model weights\n",
        "    model.load_state_dict(best_model_wts)\n",
        "    return model, hist"
      ],
      "execution_count": null,
      "outputs": []
    },
    {
      "cell_type": "code",
      "metadata": {
        "id": "7QpB_6_tl_VM"
      },
      "source": [
        "def set_parameter_requires_grad(model, feature_extracting):\n",
        "    if feature_extracting:\n",
        "        for param in model.parameters():\n",
        "            param.requires_grad = False"
      ],
      "execution_count": null,
      "outputs": []
    },
    {
      "cell_type": "code",
      "metadata": {
        "id": "LQylsib5mA-y"
      },
      "source": [
        "# Model Selection\n",
        "\n",
        "def initialize_model(model_name, num_classes, feature_extract, use_pretrained=True):\n",
        "    # Initialize these variables which will be set in this if statement. Each of these\n",
        "    #   variables is model specific.\n",
        "    model_ft = None\n",
        "\n",
        "    if model_name == \"resnet\":\n",
        "        \"\"\" Resnet18\n",
        "        \"\"\"\n",
        "        model_ft = models.resnet18(pretrained=use_pretrained)\n",
        "        set_parameter_requires_grad(model_ft, feature_extract)\n",
        "        num_ftrs = model_ft.fc.in_features\n",
        "        model_ft.fc = nn.Linear(num_ftrs, num_classes)\n",
        "\n",
        "    elif model_name == \"alexnet\":\n",
        "        \"\"\" Alexnet\n",
        "        \"\"\"\n",
        "        model_ft = models.alexnet(pretrained=use_pretrained)\n",
        "        set_parameter_requires_grad(model_ft, feature_extract)\n",
        "        num_ftrs = model_ft.classifier[6].in_features\n",
        "        model_ft.classifier[6] = nn.Linear(num_ftrs,num_classes)\n",
        "\n",
        "    elif model_name == \"vgg\":\n",
        "        \"\"\" VGG11_bn\n",
        "        \"\"\"\n",
        "        model_ft = models.vgg11_bn(pretrained=use_pretrained)\n",
        "        set_parameter_requires_grad(model_ft, feature_extract)\n",
        "        num_ftrs = model_ft.classifier[6].in_features\n",
        "        model_ft.classifier[6] = nn.Linear(num_ftrs,num_classes)\n",
        "\n",
        "    elif model_name == \"squeezenet\":\n",
        "        \"\"\" Squeezenet\n",
        "        \"\"\"\n",
        "        model_ft = models.squeezenet1_0(pretrained=use_pretrained)\n",
        "        set_parameter_requires_grad(model_ft, feature_extract)\n",
        "        model_ft.classifier[1] = nn.Conv2d(512, num_classes, kernel_size=(1,1), stride=(1,1))\n",
        "        model_ft.num_classes = num_classes\n",
        "\n",
        "    elif model_name == \"densenet\":\n",
        "        \"\"\" Densenet\n",
        "        \"\"\"\n",
        "        model_ft = models.densenet121(pretrained=use_pretrained)\n",
        "        set_parameter_requires_grad(model_ft, feature_extract)\n",
        "        num_ftrs = model_ft.classifier.in_features\n",
        "        model_ft.classifier = nn.Linear(num_ftrs, num_classes)\n",
        "        \n",
        "    elif model_name == \"wide-resnet\":\n",
        "        \"\"\" Wide Resnet-50\n",
        "        \"\"\"\n",
        "        model_ft = wide_resnet50_2 = models.wide_resnet50_2(pretrained=use_pretrained)\n",
        "        set_parameter_requires_grad(model_ft, feature_extract)\n",
        "        num_ftrs = model_ft.fc.in_features\n",
        "        model_ft.classifier = nn.Linear(num_ftrs, num_classes)\n",
        "    else:\n",
        "        print(\"Invalid model name, exiting...\")\n",
        "        exit()\n",
        "\n",
        "    return model_ft\n",
        "\n",
        "model_ft = initialize_model(model_name, num_classes, feature_extract, use_pretrained=True)"
      ],
      "execution_count": null,
      "outputs": []
    },
    {
      "cell_type": "code",
      "metadata": {
        "id": "Ce8ontdQmjXu",
        "colab": {
          "base_uri": "https://localhost:8080/"
        },
        "outputId": "6bf2e297-b113-4b7b-f649-050adb5d23f1"
      },
      "source": [
        "# Detect if we have a GPU available\n",
        "device = torch.device(\"cuda:0\" if torch.cuda.is_available() else \"cpu\")\n",
        "\n",
        "# Send the model to GPU\n",
        "model_ft = model_ft.to(device)\n",
        "\n",
        "# Gather the parameters to be optimized/updated in this run. If we are\n",
        "#  finetuning we will be updating all parameters. However, if we are\n",
        "#  doing feature extract method, we will only update the parameters\n",
        "#  that we have just initialized, i.e. the parameters with requires_grad\n",
        "#  is True.\n",
        "params_to_update = model_ft.parameters()\n",
        "print(\"Params to learn:\")\n",
        "if feature_extract:\n",
        "    params_to_update = []\n",
        "    for name,param in model_ft.named_parameters():\n",
        "        if param.requires_grad == True:\n",
        "            params_to_update.append(param)\n",
        "            print(\"\\t\",name)\n",
        "else:\n",
        "    for name,param in model_ft.named_parameters():\n",
        "        if param.requires_grad == True:\n",
        "            print(\"\\t\",name)\n",
        "\n",
        "# Observe that all parameters are being optimized\n",
        "optimizer_ft = optim.SGD(params_to_update, lr=LEARNING_RATE, momentum=MOMENTUM, weight_decay=WEIGHT_DECAY)"
      ],
      "execution_count": null,
      "outputs": [
        {
          "output_type": "stream",
          "text": [
            "Params to learn:\n",
            "\t features.0.weight\n",
            "\t features.0.bias\n",
            "\t features.1.weight\n",
            "\t features.1.bias\n",
            "\t features.4.weight\n",
            "\t features.4.bias\n",
            "\t features.5.weight\n",
            "\t features.5.bias\n",
            "\t features.8.weight\n",
            "\t features.8.bias\n",
            "\t features.9.weight\n",
            "\t features.9.bias\n",
            "\t features.11.weight\n",
            "\t features.11.bias\n",
            "\t features.12.weight\n",
            "\t features.12.bias\n",
            "\t features.15.weight\n",
            "\t features.15.bias\n",
            "\t features.16.weight\n",
            "\t features.16.bias\n",
            "\t features.18.weight\n",
            "\t features.18.bias\n",
            "\t features.19.weight\n",
            "\t features.19.bias\n",
            "\t features.22.weight\n",
            "\t features.22.bias\n",
            "\t features.23.weight\n",
            "\t features.23.bias\n",
            "\t features.25.weight\n",
            "\t features.25.bias\n",
            "\t features.26.weight\n",
            "\t features.26.bias\n",
            "\t classifier.0.weight\n",
            "\t classifier.0.bias\n",
            "\t classifier.3.weight\n",
            "\t classifier.3.bias\n",
            "\t classifier.6.weight\n",
            "\t classifier.6.bias\n"
          ],
          "name": "stdout"
        }
      ]
    },
    {
      "cell_type": "markdown",
      "metadata": {
        "id": "g8231QkJ1RLm"
      },
      "source": [
        "# Run Training\n",
        "\n",
        "Trains the model, outputs a training / validation accuracy graph and saves the model to disk."
      ]
    },
    {
      "cell_type": "code",
      "metadata": {
        "id": "nnx1Thl-nMtS",
        "colab": {
          "base_uri": "https://localhost:8080/"
        },
        "outputId": "69131f7f-ee3b-4393-e94e-590540533294"
      },
      "source": [
        "# Setup the loss fxn\n",
        "criterion = nn.CrossEntropyLoss()\n",
        "\n",
        "# Load and train model\n",
        "# state = torch.load(models_filepath + f'{model_name}_checkpoint-30.pkl')\n",
        "# model_ft, hist = train_model(model_ft, data, criterion, optimizer_ft, num_epochs=num_epochs, state=state)\n",
        "\n",
        "# Train and evaluate on fresh model\n",
        "model_ft, hist = train_model(model_ft, data, criterion, optimizer_ft, num_epochs=num_epochs)"
      ],
      "execution_count": null,
      "outputs": [
        {
          "output_type": "stream",
          "text": [
            "Epoch 0/29\n",
            "----------\n",
            "train Loss: 4.9206 Acc: 0.1070\n",
            "traincomplete in 7m 26s\n",
            "val Loss: 3.0994 Acc: 0.3153\n",
            "valcomplete in 0m 46s\n",
            "\n",
            "Epoch 1/29\n",
            "----------\n",
            "train Loss: 2.8458 Acc: 0.3363\n",
            "traincomplete in 7m 20s\n",
            "val Loss: 2.2540 Acc: 0.4478\n",
            "valcomplete in 0m 47s\n",
            "\n",
            "Epoch 2/29\n",
            "----------\n",
            "train Loss: 2.1840 Acc: 0.4568\n",
            "traincomplete in 7m 20s\n",
            "val Loss: 1.9952 Acc: 0.5006\n",
            "valcomplete in 0m 47s\n",
            "\n",
            "Epoch 3/29\n",
            "----------\n",
            "train Loss: 1.8257 Acc: 0.5288\n",
            "traincomplete in 7m 20s\n",
            "val Loss: 1.7812 Acc: 0.5385\n",
            "valcomplete in 0m 47s\n",
            "\n",
            "Epoch 4/29\n",
            "----------\n",
            "train Loss: 1.5886 Acc: 0.5808\n",
            "traincomplete in 7m 19s\n",
            "val Loss: 1.7074 Acc: 0.5445\n",
            "valcomplete in 0m 46s\n",
            "\n",
            "Epoch 5/29\n",
            "----------\n",
            "train Loss: 1.4105 Acc: 0.6180\n",
            "traincomplete in 7m 19s\n",
            "val Loss: 1.6328 Acc: 0.5764\n",
            "valcomplete in 0m 47s\n",
            "\n",
            "Epoch 6/29\n",
            "----------\n",
            "train Loss: 1.2584 Acc: 0.6562\n",
            "traincomplete in 7m 18s\n",
            "val Loss: 1.6305 Acc: 0.5753\n",
            "valcomplete in 0m 47s\n",
            "\n",
            "Epoch 7/29\n",
            "----------\n",
            "train Loss: 1.1447 Acc: 0.6823\n",
            "traincomplete in 7m 19s\n",
            "val Loss: 1.5714 Acc: 0.5867\n",
            "valcomplete in 0m 47s\n",
            "\n",
            "Epoch 8/29\n",
            "----------\n",
            "train Loss: 1.0294 Acc: 0.7127\n",
            "traincomplete in 7m 18s\n",
            "val Loss: 1.5084 Acc: 0.6031\n",
            "valcomplete in 0m 46s\n",
            "\n",
            "Epoch 9/29\n",
            "----------\n",
            "train Loss: 0.9506 Acc: 0.7334\n",
            "traincomplete in 7m 19s\n",
            "val Loss: 1.4771 Acc: 0.6103\n",
            "valcomplete in 0m 46s\n",
            "\n",
            "Epoch 10/29\n",
            "----------\n",
            "train Loss: 0.8641 Acc: 0.7524\n",
            "traincomplete in 7m 22s\n",
            "val Loss: 1.4786 Acc: 0.6057\n",
            "valcomplete in 0m 47s\n",
            "\n",
            "Epoch 11/29\n",
            "----------\n",
            "train Loss: 0.8045 Acc: 0.7695\n",
            "traincomplete in 7m 20s\n",
            "val Loss: 1.4296 Acc: 0.6298\n",
            "valcomplete in 0m 46s\n",
            "\n",
            "Epoch 12/29\n",
            "----------\n",
            "train Loss: 0.7306 Acc: 0.7867\n",
            "traincomplete in 7m 20s\n",
            "val Loss: 1.4940 Acc: 0.6147\n",
            "valcomplete in 0m 47s\n",
            "\n",
            "Epoch 13/29\n",
            "----------\n",
            "train Loss: 0.6767 Acc: 0.8000\n",
            "traincomplete in 7m 21s\n",
            "val Loss: 1.5913 Acc: 0.6057\n",
            "valcomplete in 0m 47s\n",
            "\n",
            "Epoch 14/29\n",
            "----------\n",
            "train Loss: 0.6200 Acc: 0.8188\n",
            "traincomplete in 7m 20s\n",
            "val Loss: 1.5402 Acc: 0.6197\n",
            "valcomplete in 0m 46s\n",
            "\n",
            "Epoch 15/29\n",
            "----------\n",
            "train Loss: 0.5892 Acc: 0.8267\n",
            "traincomplete in 7m 18s\n",
            "val Loss: 1.4379 Acc: 0.6326\n",
            "valcomplete in 0m 46s\n",
            "\n",
            "Epoch 16/29\n",
            "----------\n",
            "train Loss: 0.5471 Acc: 0.8387\n",
            "traincomplete in 7m 18s\n",
            "val Loss: 1.5031 Acc: 0.6344\n",
            "valcomplete in 0m 46s\n",
            "\n",
            "Epoch 17/29\n",
            "----------\n",
            "train Loss: 0.4929 Acc: 0.8525\n",
            "traincomplete in 7m 19s\n",
            "val Loss: 1.4422 Acc: 0.6461\n",
            "valcomplete in 0m 46s\n",
            "\n",
            "Epoch 18/29\n",
            "----------\n",
            "train Loss: 0.4822 Acc: 0.8549\n",
            "traincomplete in 7m 19s\n",
            "val Loss: 1.4668 Acc: 0.6451\n",
            "valcomplete in 0m 46s\n",
            "\n",
            "Epoch 19/29\n",
            "----------\n",
            "train Loss: 0.4374 Acc: 0.8684\n",
            "traincomplete in 7m 21s\n",
            "val Loss: 1.4384 Acc: 0.6412\n",
            "valcomplete in 0m 46s\n",
            "\n",
            "Epoch 20/29\n",
            "----------\n",
            "train Loss: 0.4141 Acc: 0.8752\n",
            "traincomplete in 7m 20s\n",
            "val Loss: 1.4451 Acc: 0.6515\n",
            "valcomplete in 0m 46s\n",
            "\n",
            "Epoch 21/29\n",
            "----------\n",
            "train Loss: 0.3867 Acc: 0.8842\n",
            "traincomplete in 7m 20s\n",
            "val Loss: 1.4342 Acc: 0.6471\n",
            "valcomplete in 0m 46s\n",
            "\n",
            "Epoch 22/29\n",
            "----------\n",
            "train Loss: 0.3731 Acc: 0.8888\n",
            "traincomplete in 7m 21s\n",
            "val Loss: 1.4322 Acc: 0.6471\n",
            "valcomplete in 0m 47s\n",
            "\n",
            "Epoch 23/29\n",
            "----------\n",
            "train Loss: 0.3407 Acc: 0.8994\n",
            "traincomplete in 7m 19s\n",
            "val Loss: 1.4913 Acc: 0.6417\n",
            "valcomplete in 0m 47s\n",
            "\n",
            "Epoch 24/29\n",
            "----------\n",
            "train Loss: 0.3339 Acc: 0.9004\n",
            "traincomplete in 7m 23s\n",
            "val Loss: 1.4621 Acc: 0.6531\n",
            "valcomplete in 0m 47s\n",
            "\n",
            "Epoch 25/29\n",
            "----------\n",
            "train Loss: 0.3053 Acc: 0.9083\n",
            "traincomplete in 7m 21s\n",
            "val Loss: 1.5063 Acc: 0.6565\n",
            "valcomplete in 0m 46s\n",
            "\n",
            "Epoch 26/29\n",
            "----------\n",
            "train Loss: 0.2956 Acc: 0.9110\n",
            "traincomplete in 7m 21s\n",
            "val Loss: 1.5101 Acc: 0.6513\n",
            "valcomplete in 0m 47s\n",
            "\n",
            "Epoch 27/29\n",
            "----------\n",
            "train Loss: 0.2793 Acc: 0.9179\n",
            "traincomplete in 7m 21s\n",
            "val Loss: 1.4870 Acc: 0.6562\n",
            "valcomplete in 0m 47s\n",
            "\n",
            "Epoch 28/29\n",
            "----------\n",
            "train Loss: 0.2625 Acc: 0.9223\n",
            "traincomplete in 7m 20s\n",
            "val Loss: 1.5491 Acc: 0.6417\n",
            "valcomplete in 0m 46s\n",
            "\n",
            "Epoch 29/29\n",
            "----------\n",
            "train Loss: 0.2525 Acc: 0.9237\n",
            "traincomplete in 7m 21s\n",
            "val Loss: 1.5012 Acc: 0.6596\n",
            "valcomplete in 0m 46s\n",
            "\n",
            "Training complete in 243m 18s\n",
            "Best val Acc: 0.659580\n"
          ],
          "name": "stdout"
        }
      ]
    },
    {
      "cell_type": "code",
      "metadata": {
        "id": "qHndDd-jnivn",
        "colab": {
          "base_uri": "https://localhost:8080/",
          "height": 379
        },
        "outputId": "2c194e42-150d-44eb-9dfd-2eec0753a397"
      },
      "source": [
        "# Print params\n",
        "print(f'Model: {model_name}')\n",
        "print(f'Batch Size: {batch_size}')\n",
        "print(f'Weight Decay: {WEIGHT_DECAY}')\n",
        "print(f'Momentum: {MOMENTUM}')\n",
        "print(f'Learning Rate: {LEARNING_RATE}')\n",
        "\n",
        "# Plot results\n",
        "plt.title(\"Accuracy vs. Number of Training Epochs\")\n",
        "plt.xlabel(\"Training Epochs\")\n",
        "plt.ylabel(\"Accuracy\")\n",
        "plt.plot(range(1,num_epochs+1), hist['val'], label='val')\n",
        "plt.plot(range(1,num_epochs+1), hist['train'], label='train')\n",
        "plt.ylim((0,1.))\n",
        "plt.xticks(np.arange(1, num_epochs+1, 1.0))\n",
        "plt.legend()\n",
        "plt.show()"
      ],
      "execution_count": null,
      "outputs": [
        {
          "output_type": "stream",
          "text": [
            "Model: vgg\n",
            "Batch Size: 128\n",
            "Weight Decay: 0.001\n",
            "Momentum: 0.9\n",
            "Learning Rate: 0.002\n"
          ],
          "name": "stdout"
        },
        {
          "output_type": "display_data",
          "data": {
            "image/png": "[encoded data removed]",
            "text/plain": [
              "<Figure size 432x288 with 1 Axes>"
            ]
          },
          "metadata": {
            "tags": [],
            "needs_background": "light"
          }
        }
      ]
    },
    {
      "cell_type": "code",
      "metadata": {
        "id": "fw0__d1Ug5XA"
      },
      "source": [
        "# Save model\n",
        "state = {'epoch': num_epochs, 'net': model_ft.state_dict(), 'optimizer': optimizer_ft.state_dict(), 'model_type': model_name}\n",
        "torch.save(state, models_filepath + f'{model_name}_checkpoint-30-[VG-7].pkl')"
      ],
      "execution_count": null,
      "outputs": []
    },
    {
      "cell_type": "markdown",
      "metadata": {
        "id": "QATCf1W0IdM9"
      },
      "source": [
        "# Ensemble\n",
        "\n",
        "Creates an ensemble of multiple models used for predicting labels."
      ]
    },
    {
      "cell_type": "code",
      "metadata": {
        "id": "rvH8tPrLIe6j",
        "colab": {
          "base_uri": "https://localhost:8080/",
          "height": 368,
          "referenced_widgets": [
            "4dcda443149445eb8579c61d9b219fcb",
            "0446be258ddb442ca95dc389f644baf3",
            "405cf7fc5d3640d6ba31b8894cfeb674",
            "935f1114476644408a5fb3e41e00ca74",
            "df68b3e6071343acb96c2a5abd008674",
            "a3061e4e738943d0af2d0becfdf64fbe",
            "61b034d8ab1849bab84ee5b9d8a8c0e8",
            "08d6faa9e9fb428fa76140b7a42a4454",
            "11ce05016f1649e9baa47fb7bb0f693f",
            "b7034ba45c864712a2f281592a4a3e12",
            "60d578595a0c4d21b0d044c7dec20e0f",
            "bc89b342fae2430092dcdb371d0795ce",
            "fcc4a2821c8f4bc6a51430d2da5f14e6",
            "53fcfffbec06440293a11f761f2938d3",
            "124e9b9c95f74c6ea6ed6a75005541c0",
            "872e2231a01b498eaf3fec346c10ebb0",
            "ecaae57822f44611a76bd810ce75acbb",
            "5bf5b8b74d7d49f38c32514228a762f7",
            "c3b02925107643cf997a3bcc7f6a54fe",
            "0f246165811f4e0cb9a5bef396447787",
            "dbf40c85a4ee4d8c8928ff679ed9309d",
            "21c8320ea9824a8383a9ee99ed6cdb6a",
            "82be61cda6ab4f629c5ddf97b8937efe",
            "37c52e51682b4354a22580c4b20db8b5"
          ]
        },
        "outputId": "65e091aa-5d27-401c-a72e-95b2cd814642"
      },
      "source": [
        "# Initialize models\n",
        "def load_and_initalize(m_name, m_type):\n",
        "    m_filepath = f'{models_filepath}{m_name}.pkl'\n",
        "    m = initialize_model(m_type, num_classes, feature_extract)\n",
        "    m.load_state_dict(torch.load(m_filepath)['net'])\n",
        "    m.to(device)\n",
        "    m.eval()\n",
        "    return m\n",
        "\n",
        "# Models\n",
        "model_names = ['VG-5', 'VG-6', 'VG-8', 'RN-7', 'SN-3', 'DN-5']\n",
        "model_types = ['vgg', 'vgg', 'vgg', 'resnet', 'squeezenet', 'densenet']\n",
        "models_arr = []\n",
        "\n",
        "for m_name, m_type in tqdm(zip(model_names, model_types)):\n",
        "    models_arr.append(load_and_initalize(m_name, m_type))"
      ],
      "execution_count": null,
      "outputs": [
        {
          "output_type": "stream",
          "text": [
            "\n",
            "0it [00:00, ?it/s]\u001b[A\n",
            "1it [00:12, 12.07s/it]\u001b[A\n",
            "2it [00:31, 14.17s/it]\u001b[A\n",
            "3it [01:02, 19.38s/it]\u001b[ADownloading: \"https://download.pytorch.org/models/resnet18-5c106cde.pth\" to /root/.cache/torch/hub/checkpoints/resnet18-5c106cde.pth\n"
          ],
          "name": "stderr"
        },
        {
          "output_type": "display_data",
          "data": {
            "application/vnd.jupyter.widget-view+json": {
              "model_id": "4dcda443149445eb8579c61d9b219fcb",
              "version_minor": 0,
              "version_major": 2
            },
            "text/plain": [
              "HBox(children=(FloatProgress(value=0.0, max=46827520.0), HTML(value='')))"
            ]
          },
          "metadata": {
            "tags": []
          }
        },
        {
          "output_type": "stream",
          "text": [
            "\n"
          ],
          "name": "stdout"
        },
        {
          "output_type": "stream",
          "text": [
            "\n",
            "4it [01:07, 14.92s/it]\u001b[ADownloading: \"https://download.pytorch.org/models/squeezenet1_0-a815701f.pth\" to /root/.cache/torch/hub/checkpoints/squeezenet1_0-a815701f.pth\n"
          ],
          "name": "stderr"
        },
        {
          "output_type": "display_data",
          "data": {
            "application/vnd.jupyter.widget-view+json": {
              "model_id": "11ce05016f1649e9baa47fb7bb0f693f",
              "version_minor": 0,
              "version_major": 2
            },
            "text/plain": [
              "HBox(children=(FloatProgress(value=0.0, max=5017600.0), HTML(value='')))"
            ]
          },
          "metadata": {
            "tags": []
          }
        },
        {
          "output_type": "stream",
          "text": [
            "\n"
          ],
          "name": "stdout"
        },
        {
          "output_type": "stream",
          "text": [
            "\n",
            "5it [01:08, 10.73s/it]\u001b[ADownloading: \"https://download.pytorch.org/models/densenet121-a639ec97.pth\" to /root/.cache/torch/hub/checkpoints/densenet121-a639ec97.pth\n"
          ],
          "name": "stderr"
        },
        {
          "output_type": "display_data",
          "data": {
            "application/vnd.jupyter.widget-view+json": {
              "model_id": "ecaae57822f44611a76bd810ce75acbb",
              "version_minor": 0,
              "version_major": 2
            },
            "text/plain": [
              "HBox(children=(FloatProgress(value=0.0, max=32342954.0), HTML(value='')))"
            ]
          },
          "metadata": {
            "tags": []
          }
        },
        {
          "output_type": "stream",
          "text": [
            "\n"
          ],
          "name": "stdout"
        },
        {
          "output_type": "stream",
          "text": [
            "\n",
            "6it [01:12, 12.03s/it]\n"
          ],
          "name": "stderr"
        }
      ]
    },
    {
      "cell_type": "code",
      "metadata": {
        "id": "0X9QnFlXTNoF"
      },
      "source": [
        "def ensemble_prediction(images):\n",
        "    outputs_total = torch.tensor(np.zeros((images.shape[0], num_classes))).to(device)\n",
        "    for model, weight in zip(models_arr, models_weights):\n",
        "        outputs = model(images)\n",
        "        outputs_total += weight * outputs\n",
        "    \n",
        "    return outputs_total"
      ],
      "execution_count": null,
      "outputs": []
    },
    {
      "cell_type": "code",
      "metadata": {
        "id": "91GcGq8xVAs4"
      },
      "source": [
        "def test_ensemble_prediction(dataloaders, criterion, phase):\n",
        "    running_loss = 0.0\n",
        "    running_corrects = 0\n",
        "\n",
        "    # Iterate over data.\n",
        "    for inputs, labels in tqdm(dataloaders[phase], position=0, leave=True):\n",
        "        inputs = inputs.to(device)\n",
        "        labels = labels.to(device)\n",
        "\n",
        "        with torch.no_grad():\n",
        "            outputs = ensemble_prediction(inputs)\n",
        "\n",
        "            loss = criterion(outputs, labels)\n",
        "\n",
        "            _, preds = torch.max(outputs, 1)\n",
        "\n",
        "        # statistics\n",
        "        running_loss += loss.item() * inputs.size(0)\n",
        "        running_corrects += torch.sum(preds == labels.data)\n",
        "\n",
        "    epoch_loss = running_loss / len(dataloaders[phase].dataset)\n",
        "    epoch_acc = running_corrects.double() / len(dataloaders[phase].dataset)\n",
        "\n",
        "    print('\\n{} Loss: {:.4f} Acc: {:.4f}\\n'.format(phase, epoch_loss, epoch_acc))\n",
        "    \n",
        "    # Print weights\n",
        "    for model, weight in zip(model_names, models_weights):\n",
        "        print(f'{model}: {weight}')"
      ],
      "execution_count": null,
      "outputs": []
    },
    {
      "cell_type": "code",
      "metadata": {
        "colab": {
          "base_uri": "https://localhost:8080/"
        },
        "id": "m9DwSjf-V48K",
        "outputId": "64b76c12-562a-4f24-c8fc-0b3ee5921d4f"
      },
      "source": [
        "models_weights = [0.2, 0.3, 0.1, 0.1, 0.15, 0.2]\n",
        "criterion = nn.CrossEntropyLoss()\n",
        "test_ensemble_prediction(data, criterion, 'val')"
      ],
      "execution_count": null,
      "outputs": [
        {
          "output_type": "stream",
          "text": [
            "100%|██████████| 31/31 [00:50<00:00,  1.64s/it]"
          ],
          "name": "stderr"
        },
        {
          "output_type": "stream",
          "text": [
            "\n",
            "val Loss: 0.2850 Acc: 0.9427\n",
            "\n",
            "VG-5: 0.2\n",
            "VG-6: 0.3\n",
            "VG-8: 0.1\n",
            "RN-7: 0.1\n",
            "SN-3: 0.15\n",
            "DN-5: 0.2\n"
          ],
          "name": "stdout"
        },
        {
          "output_type": "stream",
          "text": [
            "\n"
          ],
          "name": "stderr"
        }
      ]
    },
    {
      "cell_type": "markdown",
      "metadata": {
        "id": "J9IaTZQ7y5rt"
      },
      "source": [
        "# Classify Test\n",
        "\n",
        "Classifies the test set and outputs the predictions in a `.csv` file."
      ]
    },
    {
      "cell_type": "code",
      "metadata": {
        "id": "Qlmu7bPOy6nm"
      },
      "source": [
        "def predict(dataloader, ofname):\n",
        "    out = open(ofname, 'w')\n",
        "    out.write(\"path,class\\n\")\n",
        "    # net.to(device)\n",
        "    # net.eval()\n",
        "\n",
        "    with torch.no_grad():\n",
        "        for i, (images, labels) in tqdm(enumerate(dataloader, 0), position=0, leave=True, total=10000):\n",
        "            images, labels = images.to(device), labels.to(device)\n",
        "            outputs = ensemble_prediction(images)\n",
        "            _, predicted = torch.max(outputs.data, 1) \n",
        "            fname, _ = dataloader.dataset.samples[i]\n",
        "            out.write(\"test/{},{}\\n\".format(fname.split('/')[-1], data['to_class'][predicted.item()]))\n",
        "    out.close()"
      ],
      "execution_count": null,
      "outputs": []
    },
    {
      "cell_type": "code",
      "metadata": {
        "colab": {
          "base_uri": "https://localhost:8080/"
        },
        "id": "sMhhfkFHzAAp",
        "outputId": "a72c1fda-35c6-481c-e1bd-30edb896f247"
      },
      "source": [
        "predict(data['test'], test_output_filepath + f\"E2-8.csv\")"
      ],
      "execution_count": null,
      "outputs": [
        {
          "output_type": "stream",
          "text": [
            "100%|██████████| 10000/10000 [05:12<00:00, 32.03it/s]\n"
          ],
          "name": "stderr"
        }
      ]
    },
    {
      "cell_type": "code",
      "metadata": {
        "id": "GI1eBAFxm_ps"
      },
      "source": [
        ""
      ],
      "execution_count": null,
      "outputs": []
    }
  ]
}